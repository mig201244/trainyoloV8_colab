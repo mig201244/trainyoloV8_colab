{
  "cells": [
    {
      "cell_type": "markdown",
      "metadata": {
        "id": "view-in-github",
        "colab_type": "text"
      },
      "source": [
        "<a href=\"https://colab.research.google.com/github/mig201244/trainyoloV8_colab/blob/main/trainyolov8.ipynb\" target=\"_parent\"><img src=\"https://colab.research.google.com/assets/colab-badge.svg\" alt=\"Open In Colab\"/></a>"
      ]
    },
    {
      "cell_type": "markdown",
      "metadata": {
        "id": "mFcqLc5y5l82"
      },
      "source": [
        "#1.เชื่อมต่อ GoogleDrive ลงไลบารี่!\n",
        "\n"
      ]
    },
    {
      "cell_type": "code",
      "execution_count": null,
      "metadata": {
        "id": "C3oR--01zsXq"
      },
      "outputs": [],
      "source": [
        "from google.colab import drive\n",
        "drive.mount('/content/drive')"
      ]
    },
    {
      "cell_type": "code",
      "execution_count": null,
      "metadata": {
        "id": "W7HSaIqezIE8"
      },
      "outputs": [],
      "source": [
        "!pip install ultralytics==8.0.196\n",
        "\n",
        "from IPython import display\n",
        "display.clear_output()\n",
        "\n",
        "import ultralytics\n",
        "ultralytics.checks()"
      ]
    },
    {
      "cell_type": "code",
      "execution_count": null,
      "metadata": {
        "id": "85UnQIj9zoy6"
      },
      "outputs": [],
      "source": [
        "!pip install git+https://github.com/ultralytics/ultralytics.git"
      ]
    },
    {
      "cell_type": "markdown",
      "metadata": {
        "id": "Pxf3wDrOXKom"
      },
      "source": [
        "# เทรนแบบ segment"
      ]
    },
    {
      "cell_type": "code",
      "execution_count": null,
      "metadata": {
        "id": "XjqFWP1bVZVh"
      },
      "outputs": [],
      "source": [
        "#segment train\n",
        "!yolo task=segment mode=train model=/content/drive/MyDrive/migzatest/yolov8s-seg.pt data=/content/drive/MyDrive/ArtWork.v3i.yolov8/data.yaml epochs=50 --save --name=/content/drive/MyDrive/migzatest/results"
      ]
    },
    {
      "cell_type": "markdown",
      "metadata": {
        "id": "E3408eNhXJX5"
      },
      "source": [
        "# เทรนแบบ detect\n",
        ">**ใส่ api_key จาก roboflow**"
      ]
    },
    {
      "cell_type": "code",
      "execution_count": null,
      "metadata": {
        "id": "UdunBxIdgyTt"
      },
      "outputs": [],
      "source": [
        "!mkdir -p /content/drive/MyDrive/train_detect/datasets  # ตัวอย่างเพิ่ม -p เพื่อไม่ให้เกิดข้อผิดพลาดหากไดเรกทอรีมีอยู่แล้ว\n",
        "%cd /content/drive/MyDrive/train_detect/datasets\n",
        "\n",
        "!pip install roboflow --quiet\n",
        "\n",
        "from roboflow import Roboflow\n",
        "rf = Roboflow(api_key=\"FXnuXLhS5BesThmkR2eq\")\n",
        "project = rf.workspace(\"101-apimuk-petlaor-x91x2\").project(\"artworkv.2\")\n",
        "dataset = project.version(3).download(\"yolov8\")\n",
        "\n",
        "\n"
      ]
    },
    {
      "cell_type": "code",
      "execution_count": null,
      "metadata": {
        "id": "TZdeSaNzV1zl"
      },
      "outputs": [],
      "source": [
        "\n",
        "!yolo task=detect mode=train model=yolov8n.pt data=/content/drive/MyDrive/train_detect/datasets/ArtworkV.2-3/data.yaml epochs=100 imgsz=800 plots=True save name=/content/drive/MyDrive/migzatest/results\n"
      ]
    },
    {
      "cell_type": "markdown",
      "metadata": {
        "id": "HG5jxY6oXHkf"
      },
      "source": [
        "# เทรนแบบ classify"
      ]
    },
    {
      "cell_type": "code",
      "execution_count": null,
      "metadata": {
        "id": "2q7-5AtzKL_T"
      },
      "outputs": [],
      "source": [
        "#classify train\n",
        "import os\n",
        "from ultralytics import YOLO\n",
        "\n",
        "\n",
        "# Load a model\n",
        "model = YOLO(\"yolov8n-cls.pt\")  # load a pretained model\n",
        "\n",
        "# Use the model\n",
        "!yolo task=classify mode=train model=yolov8n-cls.pt data='/content/drive/MyDrive/datasetBKFRclassify' epochs=100 save name=/content/drive/MyDrive/migzatest/results"
      ]
    },
    {
      "cell_type": "markdown",
      "metadata": {
        "id": "xzlrxZ3IK0C8"
      },
      "source": [
        "#Classification\n",
        "#ตัวอย่างการเตรียม dataset เพื่อเทรน classify\n",
        "#ตั้งชื่อไฟล์ใน dataset ประมาณนี้\n",
        "Dataset\n",
        "\n",
        "│\n",
        "# **└───train**\n",
        "\n",
        "│   └───ClassA\n",
        "\n",
        "│       │   ClassA_1.jpg\n",
        "\n",
        "│       │   ClassA_2.jpg\n",
        "\n",
        "│       │   ...\n",
        "\n",
        "│   └───ClassB\n",
        "\n",
        "│       │   ClassB_1.jpg\n",
        "\n",
        "│       │   ClassB_2.jpg\n",
        "\n",
        "│       │   ...\n",
        "\n",
        "│   └───...\n",
        "\n",
        "\n",
        "\n",
        "# **└───val**\n",
        "\n",
        "│   └───ClassA\n",
        "\n",
        "│       │   ClassA_3070.jpg\n",
        "\n",
        "│       │   ClassA_2845.jpg\n",
        "\n",
        "│       │   ...\n",
        "\n",
        "│   └───ClassB\n",
        "\n",
        "│       │   ClassB_2903.jpg\n",
        "\n",
        "│       │   ClassB_2232.jpg\n",
        "\n",
        "│       │   ...\n",
        "\n",
        "│   └───...\n"
      ]
    },
    {
      "cell_type": "markdown",
      "source": [
        "# 2.detect section"
      ],
      "metadata": {
        "id": "EWwf20yaEgS-"
      }
    },
    {
      "cell_type": "code",
      "source": [
        "!pip install ultralytics"
      ],
      "metadata": {
        "id": "cIESk-UQEsVn"
      },
      "execution_count": null,
      "outputs": []
    },
    {
      "cell_type": "code",
      "source": [
        "!pip install git+https://github.com/ultralytics/ultralytics.git@main"
      ],
      "metadata": {
        "id": "vDDbmx7Kbroo"
      },
      "execution_count": null,
      "outputs": []
    },
    {
      "cell_type": "markdown",
      "metadata": {
        "id": "h-0TKctYXFEA"
      },
      "source": [
        "#ใส่ path ของโมเดล หลัง \"model=\"\n",
        "#ใส่ path ของไฟล์รูปที่จะ prediction หลัง \"source=\""
      ]
    },
    {
      "cell_type": "code",
      "source": [
        "#mode predict\n",
        "!yolo task=classify mode=predict model=/content/drive/MyDrive/testartworks-in-colab/detect_artwork/weights/best.pt conf=0.25 source=\"/content/drive/MyDrive/testartworks-in-colab/testpictures/\""
      ],
      "metadata": {
        "id": "QNAb8gRYbve6"
      },
      "execution_count": null,
      "outputs": []
    },
    {
      "cell_type": "code",
      "source": [
        "#mode val\n",
        "!yolo task=detect mode=val model=/content/drive/MyDrive/migzatest/results32/weights/best.pt data=/content/drive/MyDrive/test_order.v1i.yolov8/data.yaml save name=/content/drive/MyDrive/runs_From_colab/valtest"
      ],
      "metadata": {
        "id": "Exuvw7v6bz_d"
      },
      "execution_count": null,
      "outputs": []
    },
    {
      "cell_type": "markdown",
      "source": [
        "# โชว์รูปภาพ เปลี่ยนตรง folder_path"
      ],
      "metadata": {
        "id": "93iLhkHscgfp"
      }
    },
    {
      "cell_type": "code",
      "source": [
        "#detect\n",
        "from google.colab import files\n",
        "from IPython.display import Image, display\n",
        "\n",
        "folder_path = '/content/runs/detect/predict'\n",
        "\n",
        "import os\n",
        "\n",
        "files_list = os.listdir(folder_path)\n",
        "\n",
        "for file_name in files_list:\n",
        "    file_path = os.path.join(folder_path, file_name)\n",
        "    display(Image(filename=file_path, height=600))\n"
      ],
      "metadata": {
        "id": "RQ0jVHR9cOkX"
      },
      "execution_count": null,
      "outputs": []
    },
    {
      "cell_type": "code",
      "source": [
        "#val\n",
        "from google.colab import files\n",
        "from IPython.display import Image, display\n",
        "\n",
        "folder_path = '/content/runs/detect/val8'\n",
        "\n",
        "import os\n",
        "\n",
        "files_list = os.listdir(folder_path)\n",
        "\n",
        "for file_name in files_list:\n",
        "    file_path = os.path.join(folder_path, file_name)\n",
        "    display(Image(filename=file_path, height=600))"
      ],
      "metadata": {
        "id": "ulN51aQJctGP"
      },
      "execution_count": null,
      "outputs": []
    },
    {
      "cell_type": "markdown",
      "source": [
        "# New Section"
      ],
      "metadata": {
        "id": "JWTg5tU8b5JA"
      }
    },
    {
      "cell_type": "code",
      "execution_count": null,
      "metadata": {
        "id": "HIWKr-ao8iWe"
      },
      "outputs": [],
      "source": [
        "#BoundingBox train\n",
        "#!yolo task=detect mode=train model=yolov8n data=/content/drive/MyDrive/Artwork1_10_2024/data.yaml epochs=200 save name=/content/drive/MyDrive/migzatest/results"
      ]
    },
    {
      "cell_type": "code",
      "execution_count": null,
      "metadata": {
        "id": "toV4hGSTzZXT"
      },
      "outputs": [],
      "source": [
        "# import os\n",
        "# import shutil\n",
        "# import random\n",
        "\n",
        "# !pip install tqdm --upgrade\n",
        "# from tqdm.notebook import tqdm"
      ]
    },
    {
      "cell_type": "code",
      "execution_count": null,
      "metadata": {
        "id": "JOHOtUVcFnAS"
      },
      "outputs": [],
      "source": [
        "#ORIGINAL\n",
        "#!yolo task=segment mode=train model=yolov8s-seg.pt data=/content/drive/MyDrive/Colab/Dataset/Segmentation.v1i.yolov8/data.yaml epochs=35"
      ]
    },
    {
      "cell_type": "code",
      "execution_count": null,
      "metadata": {
        "id": "1LLLkp25TKbn"
      },
      "outputs": [],
      "source": [
        "#!python train.py --img 640 --batch-size -1 --epochs 500 --data /content/drive/MyDrive/MTF2248WVB204A.v1i.yolov8/data.yaml --weights yolov5s.pt"
      ]
    },
    {
      "cell_type": "code",
      "execution_count": null,
      "metadata": {
        "id": "u5ZqcC_71Zqi"
      },
      "outputs": [],
      "source": [
        "#!yolo --img 640 --batch-size -1 --epochs 500 task=segment mode=train model=yolov8s-seg.pt data=/content/drive/MyDrive/MTF2248WVB204A.v1i.yolov8/data.yaml epochs=100"
      ]
    }
  ],
  "metadata": {
    "accelerator": "GPU",
    "colab": {
      "provenance": [],
      "gpuType": "T4",
      "toc_visible": true,
      "include_colab_link": true
    },
    "kernelspec": {
      "display_name": "Python 3",
      "name": "python3"
    },
    "language_info": {
      "name": "python"
    }
  },
  "nbformat": 4,
  "nbformat_minor": 0
}